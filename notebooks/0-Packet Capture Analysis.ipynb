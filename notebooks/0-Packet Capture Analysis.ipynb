{
 "cells": [
  {
   "cell_type": "markdown",
   "metadata": {},
   "source": [
    "# Basic Analysis of Network Traffic Traces\n",
    "\n",
    "In this laboratory, we will explore the basics of network traffic capture. \n",
    "\n",
    "## Learning Objectives\n",
    "\n",
    "By the end of this lab, you should understand the following:\n",
    "\n",
    "* How to capture a network traffic trace.\n",
    "* What the meaining of the following fields are in the trace: (1) IP Address; (2) MAC Address; (3) Length; (4) DNS queries and responses.\n",
    "\n",
    "## Setup\n",
    "\n",
    "Before we get started, you will need to install a tool to generate packet captures. There are some example pcaps in the `pcaps` directory of this repository, as well, but it is good for everyone to become familiar with how to perform their own network traffic capture.\n",
    "\n",
    "**Wireshark** The fundamental data that we will use for analysis, in this laboratory and others, is a _network packet trace_, sometimes called a \"pcap\".  [Wireshark](https://wireshark.org/) is a tool that we can use to capture and analyze network traffic data from the devices on a network. "
   ]
  },
  {
   "cell_type": "markdown",
   "metadata": {},
   "source": [
    "### Warmup: Basic Wireshark Analysis\n",
    "\n",
    "First, you should use wireshark to collect a packet trace. Save the trace as a regular pcap (not pcapng) somewhere on your local machine. Note the location where you have saved the file, as we will be loading that file into the notebook later.\n",
    "\n",
    "Using Wireshark answer the following questions:\n",
    "* How many packets are in the trace?\n",
    "* What is the total volume of traffic in the trace?\n",
    "\n",
    "These are fairly straightforward questions that wireshark itself can easily tell you. Doing more complicated analysis (and eventually machine learning) requires more sophisticated processing. For that, in this course, we will rely on Python, pandas, and scikit-learn.\n",
    "\n",
    "## Analyzing Packet Captures in Python\n",
    "\n",
    "We will now load the packet capture you have generated into Python---specifically, and analysis library called Pandas, which will allow us to ask more complex questions.  This "
   ]
  },
  {
   "cell_type": "code",
   "execution_count": 1,
   "metadata": {},
   "outputs": [
    {
     "data": {
      "text/html": [
       "<div>\n",
       "<style scoped>\n",
       "    .dataframe tbody tr th:only-of-type {\n",
       "        vertical-align: middle;\n",
       "    }\n",
       "\n",
       "    .dataframe tbody tr th {\n",
       "        vertical-align: top;\n",
       "    }\n",
       "\n",
       "    .dataframe thead th {\n",
       "        text-align: right;\n",
       "    }\n",
       "</style>\n",
       "<table border=\"1\" class=\"dataframe\">\n",
       "  <thead>\n",
       "    <tr style=\"text-align: right;\">\n",
       "      <th></th>\n",
       "      <th>datetime</th>\n",
       "      <th>dns_query</th>\n",
       "      <th>dns_resp</th>\n",
       "      <th>ip_dst</th>\n",
       "      <th>ip_dst_int</th>\n",
       "      <th>ip_src</th>\n",
       "      <th>ip_src_int</th>\n",
       "      <th>is_dns</th>\n",
       "      <th>length</th>\n",
       "      <th>mac_dst</th>\n",
       "      <th>mac_dst_int</th>\n",
       "      <th>mac_src</th>\n",
       "      <th>mac_src_int</th>\n",
       "      <th>port_dst</th>\n",
       "      <th>port_src</th>\n",
       "      <th>protocol</th>\n",
       "      <th>time</th>\n",
       "      <th>time_normed</th>\n",
       "    </tr>\n",
       "  </thead>\n",
       "  <tbody>\n",
       "    <tr>\n",
       "      <th>28</th>\n",
       "      <td>2020-07-14 12:17:33</td>\n",
       "      <td>None</td>\n",
       "      <td>None</td>\n",
       "      <td>128.135.164.125</td>\n",
       "      <td>2156373117</td>\n",
       "      <td>192.168.1.13</td>\n",
       "      <td>3232235789</td>\n",
       "      <td>False</td>\n",
       "      <td>54</td>\n",
       "      <td>08:02:8e:92:27:27</td>\n",
       "      <td>8807074899751</td>\n",
       "      <td>3c:15:c2:d9:d3:50</td>\n",
       "      <td>66064161035088</td>\n",
       "      <td>443</td>\n",
       "      <td>53469</td>\n",
       "      <td>TCP</td>\n",
       "      <td>1594747053.002336</td>\n",
       "      <td>0.943725</td>\n",
       "    </tr>\n",
       "    <tr>\n",
       "      <th>29</th>\n",
       "      <td>2020-07-14 12:17:33</td>\n",
       "      <td>None</td>\n",
       "      <td>None</td>\n",
       "      <td>128.135.164.125</td>\n",
       "      <td>2156373117</td>\n",
       "      <td>192.168.1.13</td>\n",
       "      <td>3232235789</td>\n",
       "      <td>False</td>\n",
       "      <td>54</td>\n",
       "      <td>08:02:8e:92:27:27</td>\n",
       "      <td>8807074899751</td>\n",
       "      <td>3c:15:c2:d9:d3:50</td>\n",
       "      <td>66064161035088</td>\n",
       "      <td>443</td>\n",
       "      <td>53469</td>\n",
       "      <td>TCP</td>\n",
       "      <td>1594747053.002394</td>\n",
       "      <td>0.943783</td>\n",
       "    </tr>\n",
       "    <tr>\n",
       "      <th>30</th>\n",
       "      <td>2020-07-14 12:17:33</td>\n",
       "      <td>None</td>\n",
       "      <td>None</td>\n",
       "      <td>128.135.164.125</td>\n",
       "      <td>2156373117</td>\n",
       "      <td>192.168.1.13</td>\n",
       "      <td>3232235789</td>\n",
       "      <td>False</td>\n",
       "      <td>54</td>\n",
       "      <td>08:02:8e:92:27:27</td>\n",
       "      <td>8807074899751</td>\n",
       "      <td>3c:15:c2:d9:d3:50</td>\n",
       "      <td>66064161035088</td>\n",
       "      <td>443</td>\n",
       "      <td>53469</td>\n",
       "      <td>TCP</td>\n",
       "      <td>1594747053.002405</td>\n",
       "      <td>0.943794</td>\n",
       "    </tr>\n",
       "    <tr>\n",
       "      <th>31</th>\n",
       "      <td>2020-07-14 12:17:33</td>\n",
       "      <td>None</td>\n",
       "      <td>None</td>\n",
       "      <td>128.135.164.125</td>\n",
       "      <td>2156373117</td>\n",
       "      <td>192.168.1.13</td>\n",
       "      <td>3232235789</td>\n",
       "      <td>False</td>\n",
       "      <td>1514</td>\n",
       "      <td>08:02:8e:92:27:27</td>\n",
       "      <td>8807074899751</td>\n",
       "      <td>3c:15:c2:d9:d3:50</td>\n",
       "      <td>66064161035088</td>\n",
       "      <td>443</td>\n",
       "      <td>53469</td>\n",
       "      <td>TCP</td>\n",
       "      <td>1594747053.094200</td>\n",
       "      <td>1.035589</td>\n",
       "    </tr>\n",
       "    <tr>\n",
       "      <th>32</th>\n",
       "      <td>2020-07-14 12:17:33</td>\n",
       "      <td>None</td>\n",
       "      <td>None</td>\n",
       "      <td>128.135.164.125</td>\n",
       "      <td>2156373117</td>\n",
       "      <td>192.168.1.13</td>\n",
       "      <td>3232235789</td>\n",
       "      <td>False</td>\n",
       "      <td>691</td>\n",
       "      <td>08:02:8e:92:27:27</td>\n",
       "      <td>8807074899751</td>\n",
       "      <td>3c:15:c2:d9:d3:50</td>\n",
       "      <td>66064161035088</td>\n",
       "      <td>443</td>\n",
       "      <td>53469</td>\n",
       "      <td>TCP</td>\n",
       "      <td>1594747053.094201</td>\n",
       "      <td>1.035590</td>\n",
       "    </tr>\n",
       "  </tbody>\n",
       "</table>\n",
       "</div>"
      ],
      "text/plain": [
       "              datetime dns_query dns_resp           ip_dst  ip_dst_int  \\\n",
       "28 2020-07-14 12:17:33      None     None  128.135.164.125  2156373117   \n",
       "29 2020-07-14 12:17:33      None     None  128.135.164.125  2156373117   \n",
       "30 2020-07-14 12:17:33      None     None  128.135.164.125  2156373117   \n",
       "31 2020-07-14 12:17:33      None     None  128.135.164.125  2156373117   \n",
       "32 2020-07-14 12:17:33      None     None  128.135.164.125  2156373117   \n",
       "\n",
       "          ip_src  ip_src_int  is_dns  length            mac_dst  \\\n",
       "28  192.168.1.13  3232235789   False      54  08:02:8e:92:27:27   \n",
       "29  192.168.1.13  3232235789   False      54  08:02:8e:92:27:27   \n",
       "30  192.168.1.13  3232235789   False      54  08:02:8e:92:27:27   \n",
       "31  192.168.1.13  3232235789   False    1514  08:02:8e:92:27:27   \n",
       "32  192.168.1.13  3232235789   False     691  08:02:8e:92:27:27   \n",
       "\n",
       "      mac_dst_int            mac_src     mac_src_int  port_dst  port_src  \\\n",
       "28  8807074899751  3c:15:c2:d9:d3:50  66064161035088       443     53469   \n",
       "29  8807074899751  3c:15:c2:d9:d3:50  66064161035088       443     53469   \n",
       "30  8807074899751  3c:15:c2:d9:d3:50  66064161035088       443     53469   \n",
       "31  8807074899751  3c:15:c2:d9:d3:50  66064161035088       443     53469   \n",
       "32  8807074899751  3c:15:c2:d9:d3:50  66064161035088       443     53469   \n",
       "\n",
       "   protocol               time time_normed  \n",
       "28      TCP  1594747053.002336    0.943725  \n",
       "29      TCP  1594747053.002394    0.943783  \n",
       "30      TCP  1594747053.002405    0.943794  \n",
       "31      TCP  1594747053.094200    1.035589  \n",
       "32      TCP  1594747053.094201    1.035590  "
      ]
     },
     "execution_count": 1,
     "metadata": {},
     "output_type": "execute_result"
    }
   ],
   "source": [
    "import pandas as pd\n",
    "from datetime import datetime, timezone\n",
    "\n",
    "# Allow us to load modules from the parent directory\n",
    "import sys\n",
    "sys.path.append(\"../lib\") \n",
    "from parse_pcap import pcap_to_pandas, send_rates\n",
    "\n",
    "# Insert your own packet capture here.\n",
    "\n",
    "#pcap = pcap_to_pandas('/tmp/example-20200523.pcap') \n",
    "pcap = pcap_to_pandas('../pcaps/uchicagocs-web-20200714.pcap')\n",
    "\n",
    "# look at the first n rows of the packet capture\n",
    "pcap.loc[28:,:].head(5)"
   ]
  },
  {
   "cell_type": "markdown",
   "metadata": {},
   "source": [
    "### Basic Dataframe Statistics\n",
    "\n",
    "You can use the `shape` function to discover how many rows and columns exist in your dataset and the `columns` function to get a list of column headers."
   ]
  },
  {
   "cell_type": "code",
   "execution_count": 2,
   "metadata": {},
   "outputs": [
    {
     "name": "stdout",
     "output_type": "stream",
     "text": [
      "(195, 18)\n",
      "\n",
      "\n",
      "Index(['datetime', 'dns_query', 'dns_resp', 'ip_dst', 'ip_dst_int', 'ip_src',\n",
      "       'ip_src_int', 'is_dns', 'length', 'mac_dst', 'mac_dst_int', 'mac_src',\n",
      "       'mac_src_int', 'port_dst', 'port_src', 'protocol', 'time',\n",
      "       'time_normed'],\n",
      "      dtype='object')\n"
     ]
    }
   ],
   "source": [
    "print('{}\\n\\n'.format(pcap.shape))\n",
    "print(pcap.columns)"
   ]
  },
  {
   "cell_type": "markdown",
   "metadata": {},
   "source": [
    "### Slicing and Sub-Selecting Data\n",
    "\n",
    "Pandas allows the use of slicing to subselect columns. Let's use that function to cut down our list of columns to some columns on which we want to do further analysis."
   ]
  },
  {
   "cell_type": "code",
   "execution_count": 3,
   "metadata": {},
   "outputs": [
    {
     "data": {
      "text/html": [
       "<div>\n",
       "<style scoped>\n",
       "    .dataframe tbody tr th:only-of-type {\n",
       "        vertical-align: middle;\n",
       "    }\n",
       "\n",
       "    .dataframe tbody tr th {\n",
       "        vertical-align: top;\n",
       "    }\n",
       "\n",
       "    .dataframe thead th {\n",
       "        text-align: right;\n",
       "    }\n",
       "</style>\n",
       "<table border=\"1\" class=\"dataframe\">\n",
       "  <thead>\n",
       "    <tr style=\"text-align: right;\">\n",
       "      <th></th>\n",
       "      <th>datetime</th>\n",
       "      <th>ip_src</th>\n",
       "      <th>ip_dst</th>\n",
       "      <th>length</th>\n",
       "      <th>port_src</th>\n",
       "      <th>port_dst</th>\n",
       "      <th>protocol</th>\n",
       "    </tr>\n",
       "  </thead>\n",
       "  <tbody>\n",
       "    <tr>\n",
       "      <th>0</th>\n",
       "      <td>2020-07-14 12:17:32</td>\n",
       "      <td>192.168.1.13</td>\n",
       "      <td>128.135.164.125</td>\n",
       "      <td>78</td>\n",
       "      <td>53469</td>\n",
       "      <td>443</td>\n",
       "      <td>TCP</td>\n",
       "    </tr>\n",
       "    <tr>\n",
       "      <th>1</th>\n",
       "      <td>2020-07-14 12:17:32</td>\n",
       "      <td>128.135.164.125</td>\n",
       "      <td>192.168.1.13</td>\n",
       "      <td>66</td>\n",
       "      <td>443</td>\n",
       "      <td>53469</td>\n",
       "      <td>TCP</td>\n",
       "    </tr>\n",
       "    <tr>\n",
       "      <th>2</th>\n",
       "      <td>2020-07-14 12:17:32</td>\n",
       "      <td>192.168.1.13</td>\n",
       "      <td>128.135.164.125</td>\n",
       "      <td>54</td>\n",
       "      <td>53469</td>\n",
       "      <td>443</td>\n",
       "      <td>TCP</td>\n",
       "    </tr>\n",
       "    <tr>\n",
       "      <th>3</th>\n",
       "      <td>2020-07-14 12:17:32</td>\n",
       "      <td>192.168.1.13</td>\n",
       "      <td>128.135.164.125</td>\n",
       "      <td>571</td>\n",
       "      <td>53469</td>\n",
       "      <td>443</td>\n",
       "      <td>TCP</td>\n",
       "    </tr>\n",
       "    <tr>\n",
       "      <th>4</th>\n",
       "      <td>2020-07-14 12:17:32</td>\n",
       "      <td>128.135.164.125</td>\n",
       "      <td>192.168.1.13</td>\n",
       "      <td>60</td>\n",
       "      <td>443</td>\n",
       "      <td>53469</td>\n",
       "      <td>TCP</td>\n",
       "    </tr>\n",
       "    <tr>\n",
       "      <th>5</th>\n",
       "      <td>2020-07-14 12:17:32</td>\n",
       "      <td>128.135.164.125</td>\n",
       "      <td>192.168.1.13</td>\n",
       "      <td>1514</td>\n",
       "      <td>443</td>\n",
       "      <td>53469</td>\n",
       "      <td>TCP</td>\n",
       "    </tr>\n",
       "    <tr>\n",
       "      <th>6</th>\n",
       "      <td>2020-07-14 12:17:32</td>\n",
       "      <td>128.135.164.125</td>\n",
       "      <td>192.168.1.13</td>\n",
       "      <td>1514</td>\n",
       "      <td>443</td>\n",
       "      <td>53469</td>\n",
       "      <td>TCP</td>\n",
       "    </tr>\n",
       "    <tr>\n",
       "      <th>7</th>\n",
       "      <td>2020-07-14 12:17:32</td>\n",
       "      <td>128.135.164.125</td>\n",
       "      <td>192.168.1.13</td>\n",
       "      <td>1230</td>\n",
       "      <td>443</td>\n",
       "      <td>53469</td>\n",
       "      <td>TCP</td>\n",
       "    </tr>\n",
       "    <tr>\n",
       "      <th>8</th>\n",
       "      <td>2020-07-14 12:17:32</td>\n",
       "      <td>128.135.164.125</td>\n",
       "      <td>192.168.1.13</td>\n",
       "      <td>1514</td>\n",
       "      <td>443</td>\n",
       "      <td>53469</td>\n",
       "      <td>TCP</td>\n",
       "    </tr>\n",
       "    <tr>\n",
       "      <th>9</th>\n",
       "      <td>2020-07-14 12:17:32</td>\n",
       "      <td>128.135.164.125</td>\n",
       "      <td>192.168.1.13</td>\n",
       "      <td>708</td>\n",
       "      <td>443</td>\n",
       "      <td>53469</td>\n",
       "      <td>TCP</td>\n",
       "    </tr>\n",
       "  </tbody>\n",
       "</table>\n",
       "</div>"
      ],
      "text/plain": [
       "             datetime           ip_src           ip_dst  length  port_src  \\\n",
       "0 2020-07-14 12:17:32     192.168.1.13  128.135.164.125      78     53469   \n",
       "1 2020-07-14 12:17:32  128.135.164.125     192.168.1.13      66       443   \n",
       "2 2020-07-14 12:17:32     192.168.1.13  128.135.164.125      54     53469   \n",
       "3 2020-07-14 12:17:32     192.168.1.13  128.135.164.125     571     53469   \n",
       "4 2020-07-14 12:17:32  128.135.164.125     192.168.1.13      60       443   \n",
       "5 2020-07-14 12:17:32  128.135.164.125     192.168.1.13    1514       443   \n",
       "6 2020-07-14 12:17:32  128.135.164.125     192.168.1.13    1514       443   \n",
       "7 2020-07-14 12:17:32  128.135.164.125     192.168.1.13    1230       443   \n",
       "8 2020-07-14 12:17:32  128.135.164.125     192.168.1.13    1514       443   \n",
       "9 2020-07-14 12:17:32  128.135.164.125     192.168.1.13     708       443   \n",
       "\n",
       "   port_dst protocol  \n",
       "0       443      TCP  \n",
       "1     53469      TCP  \n",
       "2       443      TCP  \n",
       "3       443      TCP  \n",
       "4     53469      TCP  \n",
       "5     53469      TCP  \n",
       "6     53469      TCP  \n",
       "7     53469      TCP  \n",
       "8     53469      TCP  \n",
       "9     53469      TCP  "
      ]
     },
     "execution_count": 3,
     "metadata": {},
     "output_type": "execute_result"
    }
   ],
   "source": [
    "pcap = pcap.loc[:,['datetime','ip_src','ip_dst',\n",
    "                   'length','port_src','port_dst','protocol']]\n",
    "pcap.head(10)"
   ]
  },
  {
   "cell_type": "markdown",
   "metadata": {},
   "source": [
    "### Conditional Slicing\n",
    "\n",
    "You can slice a dataframe based on conditionals.  Here we select only the rows whose source IP address corresponds to a certain value."
   ]
  },
  {
   "cell_type": "code",
   "execution_count": 4,
   "metadata": {},
   "outputs": [
    {
     "data": {
      "text/html": [
       "<div>\n",
       "<style scoped>\n",
       "    .dataframe tbody tr th:only-of-type {\n",
       "        vertical-align: middle;\n",
       "    }\n",
       "\n",
       "    .dataframe tbody tr th {\n",
       "        vertical-align: top;\n",
       "    }\n",
       "\n",
       "    .dataframe thead th {\n",
       "        text-align: right;\n",
       "    }\n",
       "</style>\n",
       "<table border=\"1\" class=\"dataframe\">\n",
       "  <thead>\n",
       "    <tr style=\"text-align: right;\">\n",
       "      <th></th>\n",
       "      <th>datetime</th>\n",
       "      <th>ip_src</th>\n",
       "      <th>ip_dst</th>\n",
       "      <th>length</th>\n",
       "      <th>port_src</th>\n",
       "      <th>port_dst</th>\n",
       "      <th>protocol</th>\n",
       "    </tr>\n",
       "  </thead>\n",
       "  <tbody>\n",
       "  </tbody>\n",
       "</table>\n",
       "</div>"
      ],
      "text/plain": [
       "Empty DataFrame\n",
       "Columns: [datetime, ip_src, ip_dst, length, port_src, port_dst, protocol]\n",
       "Index: []"
      ]
     },
     "execution_count": 4,
     "metadata": {},
     "output_type": "execute_result"
    }
   ],
   "source": [
    "pcap[pcap['ip_src'] == '192.168.1.8'].head(10)"
   ]
  },
  {
   "cell_type": "markdown",
   "metadata": {},
   "source": [
    "### Further Analysis Questions\n",
    "\n",
    "You could ask some follow up questions about the web download above:\n",
    "* How many total bytes were exchanged in this web download (in both directions)?\n",
    "* How many total bytes went from the web server to the client device (e.g., web browser) (\"download\"))?\n",
    "* How long did the total download take?\n",
    "* What is the maximum packet size (length)? What is the average packet size?\n",
    "\n",
    "You may find the Pandas documentation and examples helpful. (e.g., [groupby](https://pandas.pydata.org/pandas-docs/stable/reference/api/pandas.DataFrame.groupby.html))"
   ]
  },
  {
   "cell_type": "code",
   "execution_count": 5,
   "metadata": {},
   "outputs": [],
   "source": [
    "# Total bytes exchanged.\n",
    "# HINT: use the pandas \"groupby\" function\n",
    "\n",
    "# Total bytes downloaded.\n",
    "# HINT: extend the first part by first using a conditional slice to only select the download packets.\n",
    "# (download would be ip_dst equal to the IP address of the client, ip_src equal to the IP address of the server)\n",
    "\n",
    "# Total time.\n",
    "# HINT: Time of last row minus time of first row.\n",
    "\n",
    "# Max/average length.\n",
    "# HINT: Apply max, mean pandas functions to the 'length' column of the pcap dataframe.\n"
   ]
  },
  {
   "cell_type": "markdown",
   "metadata": {},
   "source": [
    "---\n",
    "## Basic Analysis of Traffic Using Pandas\n",
    "\n",
    "Try some of the examples below using a trace that has multiple destination IP addresses (e.g., all of your web traffic)."
   ]
  },
  {
   "cell_type": "markdown",
   "metadata": {},
   "source": [
    "### List of Unique Destination IP Addresses\n",
    "\n",
    "What are the unique destinations that our network is communicating with?  We can use the `unique` function to retrieve those."
   ]
  },
  {
   "cell_type": "code",
   "execution_count": 6,
   "metadata": {},
   "outputs": [
    {
     "name": "stdout",
     "output_type": "stream",
     "text": [
      "0    128.135.164.125\n",
      "1       192.168.1.13\n",
      "Name: 0, dtype: object\n"
     ]
    }
   ],
   "source": [
    "unique_dst_ip = pd.DataFrame(pcap['ip_dst'].unique())[0]\n",
    "print(unique_dst_ip)"
   ]
  },
  {
   "cell_type": "markdown",
   "metadata": {},
   "source": [
    "### Most Popular Destination IP Addresses\n",
    "\n",
    "We can group the rows of the dataframe using `groupby`, `sum`, and `sort_values` to determine the most popular destination IP addresses?"
   ]
  },
  {
   "cell_type": "code",
   "execution_count": 7,
   "metadata": {},
   "outputs": [
    {
     "data": {
      "text/html": [
       "<div>\n",
       "<style scoped>\n",
       "    .dataframe tbody tr th:only-of-type {\n",
       "        vertical-align: middle;\n",
       "    }\n",
       "\n",
       "    .dataframe tbody tr th {\n",
       "        vertical-align: top;\n",
       "    }\n",
       "\n",
       "    .dataframe thead th {\n",
       "        text-align: right;\n",
       "    }\n",
       "</style>\n",
       "<table border=\"1\" class=\"dataframe\">\n",
       "  <thead>\n",
       "    <tr style=\"text-align: right;\">\n",
       "      <th></th>\n",
       "      <th>length</th>\n",
       "    </tr>\n",
       "    <tr>\n",
       "      <th>ip_dst</th>\n",
       "      <th></th>\n",
       "    </tr>\n",
       "  </thead>\n",
       "  <tbody>\n",
       "    <tr>\n",
       "      <th>192.168.1.13</th>\n",
       "      <td>104208</td>\n",
       "    </tr>\n",
       "    <tr>\n",
       "      <th>128.135.164.125</th>\n",
       "      <td>23813</td>\n",
       "    </tr>\n",
       "  </tbody>\n",
       "</table>\n",
       "</div>"
      ],
      "text/plain": [
       "                 length\n",
       "ip_dst                 \n",
       "192.168.1.13     104208\n",
       "128.135.164.125   23813"
      ]
     },
     "execution_count": 7,
     "metadata": {},
     "output_type": "execute_result"
    }
   ],
   "source": [
    "pkts_dst = pcap.loc[:,['datetime','ip_dst','length']]\n",
    "pkts_dst.groupby(['ip_dst']).sum().sort_values(by='length',ascending=False)"
   ]
  },
  {
   "cell_type": "markdown",
   "metadata": {},
   "source": [
    "Define a reverse lookup function."
   ]
  },
  {
   "cell_type": "code",
   "execution_count": 8,
   "metadata": {},
   "outputs": [
    {
     "name": "stdout",
     "output_type": "stream",
     "text": [
      "ec2-34-193-201-2.compute-1.amazonaws.com.\n"
     ]
    }
   ],
   "source": [
    "from dns import resolver\n",
    "from dns import reversename\n",
    "\n",
    "# test reverse DNS lookup\n",
    "addr = reversename.from_address('34.193.201.2')\n",
    "print(resolver.query(addr, \"PTR\")[0])"
   ]
  },
  {
   "cell_type": "code",
   "execution_count": 9,
   "metadata": {},
   "outputs": [
    {
     "name": "stdout",
     "output_type": "stream",
     "text": [
      "zoomnye218mmr.ny.zoom.us.\n"
     ]
    }
   ],
   "source": [
    "# test reverse DNS lookup\n",
    "addr = reversename.from_address('204.80.104.218')\n",
    "print(resolver.query(addr, \"PTR\")[0])"
   ]
  },
  {
   "cell_type": "code",
   "execution_count": 10,
   "metadata": {},
   "outputs": [],
   "source": [
    "def reverse_lookup(ip):\n",
    "    if str(ip) == 'None':\n",
    "        return 'None'\n",
    "    addr = reversename.from_address(ip)\n",
    "    try:\n",
    "        return str(resolver.query(addr, \"PTR\")[0])\n",
    "    except Exception as e:\n",
    "        return 'N/A'"
   ]
  },
  {
   "cell_type": "markdown",
   "metadata": {},
   "source": [
    "### Apply a Function to an Entire Dataframe\n",
    "\n",
    "Use the pandas `apply` function to create a new column with the DNS names associated with each destination. \n",
    "\n",
    "Then look at the unique destination IP addresses in the trace."
   ]
  },
  {
   "cell_type": "code",
   "execution_count": 11,
   "metadata": {},
   "outputs": [],
   "source": [
    "pcap['name_dst'] = pcap['ip_dst'].apply(reverse_lookup)"
   ]
  },
  {
   "cell_type": "code",
   "execution_count": 12,
   "metadata": {},
   "outputs": [
    {
     "name": "stdout",
     "output_type": "stream",
     "text": [
      "0    hnd.cs.uchicago.edu.\n",
      "1                     N/A\n",
      "Name: 0, dtype: object\n"
     ]
    }
   ],
   "source": [
    "unique_dst_name = pd.DataFrame(pcap['name_dst'].unique())[0]\n",
    "print(unique_dst_name)"
   ]
  },
  {
   "cell_type": "markdown",
   "metadata": {},
   "source": [
    "## Functions\n",
    "\n",
    "It is often useful to encapsulate functionality in functions so that we can use those functions again.\n",
    "\n",
    "Write functions to count (\"sum\") the length field so that we can know how much total traffic in bytes is sent to each destination, either by IP address or by name."
   ]
  },
  {
   "cell_type": "code",
   "execution_count": 13,
   "metadata": {},
   "outputs": [],
   "source": [
    "def volume_stats_by_ip(pcap):\n",
    "    return pcap.loc[:,['ip_dst','length']].groupby('ip_dst').sum().sort_values(by=['length'], ascending=False)\n",
    "\n",
    "\n",
    "def volume_stats_by_name(pcap):\n",
    "    return pcap.loc[:,['name_dst','length']].groupby('name_dst').sum().sort_values(by=['length'], ascending=False)"
   ]
  },
  {
   "cell_type": "code",
   "execution_count": 14,
   "metadata": {},
   "outputs": [
    {
     "data": {
      "text/html": [
       "<div>\n",
       "<style scoped>\n",
       "    .dataframe tbody tr th:only-of-type {\n",
       "        vertical-align: middle;\n",
       "    }\n",
       "\n",
       "    .dataframe tbody tr th {\n",
       "        vertical-align: top;\n",
       "    }\n",
       "\n",
       "    .dataframe thead th {\n",
       "        text-align: right;\n",
       "    }\n",
       "</style>\n",
       "<table border=\"1\" class=\"dataframe\">\n",
       "  <thead>\n",
       "    <tr style=\"text-align: right;\">\n",
       "      <th></th>\n",
       "      <th>length</th>\n",
       "    </tr>\n",
       "    <tr>\n",
       "      <th>ip_dst</th>\n",
       "      <th></th>\n",
       "    </tr>\n",
       "  </thead>\n",
       "  <tbody>\n",
       "    <tr>\n",
       "      <th>192.168.1.13</th>\n",
       "      <td>104208</td>\n",
       "    </tr>\n",
       "    <tr>\n",
       "      <th>128.135.164.125</th>\n",
       "      <td>23813</td>\n",
       "    </tr>\n",
       "  </tbody>\n",
       "</table>\n",
       "</div>"
      ],
      "text/plain": [
       "                 length\n",
       "ip_dst                 \n",
       "192.168.1.13     104208\n",
       "128.135.164.125   23813"
      ]
     },
     "execution_count": 14,
     "metadata": {},
     "output_type": "execute_result"
    }
   ],
   "source": [
    "volume_stats_by_ip(pcap)"
   ]
  },
  {
   "cell_type": "code",
   "execution_count": 15,
   "metadata": {},
   "outputs": [
    {
     "data": {
      "text/html": [
       "<div>\n",
       "<style scoped>\n",
       "    .dataframe tbody tr th:only-of-type {\n",
       "        vertical-align: middle;\n",
       "    }\n",
       "\n",
       "    .dataframe tbody tr th {\n",
       "        vertical-align: top;\n",
       "    }\n",
       "\n",
       "    .dataframe thead th {\n",
       "        text-align: right;\n",
       "    }\n",
       "</style>\n",
       "<table border=\"1\" class=\"dataframe\">\n",
       "  <thead>\n",
       "    <tr style=\"text-align: right;\">\n",
       "      <th></th>\n",
       "      <th>length</th>\n",
       "    </tr>\n",
       "    <tr>\n",
       "      <th>name_dst</th>\n",
       "      <th></th>\n",
       "    </tr>\n",
       "  </thead>\n",
       "  <tbody>\n",
       "    <tr>\n",
       "      <th>N/A</th>\n",
       "      <td>104208</td>\n",
       "    </tr>\n",
       "    <tr>\n",
       "      <th>hnd.cs.uchicago.edu.</th>\n",
       "      <td>23813</td>\n",
       "    </tr>\n",
       "  </tbody>\n",
       "</table>\n",
       "</div>"
      ],
      "text/plain": [
       "                      length\n",
       "name_dst                    \n",
       "N/A                   104208\n",
       "hnd.cs.uchicago.edu.   23813"
      ]
     },
     "execution_count": 15,
     "metadata": {},
     "output_type": "execute_result"
    }
   ],
   "source": [
    "volume_stats_by_name(pcap)"
   ]
  },
  {
   "cell_type": "markdown",
   "metadata": {},
   "source": [
    "## Going Further\n",
    "\n",
    "For homework, define some questions you want to ask about the network traffic trace and write some functions to analyze the trace.\n",
    "\n",
    "Here are some example questions.  You can pick one of these or define one yourself:\n",
    "* What is the maximum, median, minimum, and mean packet size?\n",
    "* How many DNS queries (destination port 53) are there in this trace?\n",
    "* What is the most popular DNS query in the trace?"
   ]
  }
 ],
 "metadata": {
  "kernelspec": {
   "display_name": "Python 3",
   "language": "python",
   "name": "python3"
  },
  "language_info": {
   "codemirror_mode": {
    "name": "ipython",
    "version": 3
   },
   "file_extension": ".py",
   "mimetype": "text/x-python",
   "name": "python",
   "nbconvert_exporter": "python",
   "pygments_lexer": "ipython3",
   "version": "3.6.9"
  }
 },
 "nbformat": 4,
 "nbformat_minor": 2
}
